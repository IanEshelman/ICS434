{
  "cells": [
    {
      "cell_type": "markdown",
      "id": "8b1a4ff6",
      "metadata": {
        "id": "8b1a4ff6"
      },
      "source": [
        "#### 1. Reproducing a plot\n",
        "1. Use `numpy`'s `random` module to generate a random list of size 1000 of the following three categories: \"CS\", \"Engineering\", \"Math\" and \"Physics\"\n",
        "  1.1 Use a seed of 42\n",
        "2. Store the data in an array called my `students_affiliations`\n",
        "3. use `matplotlib` to plot the data in `students_affiliations` to reproduce the following graph\n",
        " 3.1 The plot uses \"#FF5733\" as color with an alpha (transparency) of 0.55.\n",
        "\n",
        "* Your graph should look exactly like the one below\n",
        "\n",
        "![](https://www.dropbox.com/s/ffmu62es6d7evh5/experience_fig.png?dl=1)"
      ]
    },
    {
      "cell_type": "markdown",
      "id": "bf3607f3",
      "metadata": {
        "id": "bf3607f3"
      },
      "source": [
        "#### 2. Generating a scatter plot\n",
        "* Generate random data to produce a scatter plot\n",
        "  * You can use any function to generate the data\n",
        "  * Instead of using circles as symbols, you should use squares.\n",
        "    "
      ]
    },
    {
      "cell_type": "code",
      "execution_count": 22,
      "id": "9f7530eb",
      "metadata": {
        "colab": {
          "base_uri": "https://localhost:8080/",
          "height": 384
        },
        "id": "9f7530eb",
        "outputId": "1959095c-97b3-4b8d-e817-d538b4de6c09"
      },
      "outputs": [
        {
          "output_type": "stream",
          "name": "stdout",
          "text": [
            "[280, 258, 232, 230]\n"
          ]
        },
        {
          "output_type": "display_data",
          "data": {
            "image/png": "[encoded data removed]",
            "text/plain": [
              "<Figure size 432x288 with 1 Axes>"
            ]
          },
          "metadata": {
            "needs_background": "light"
          }
        }
      ],
      "source": [
        "import numpy as np\n",
        "import matplotlib.pyplot as plt\n",
        "\n",
        "np.random.seed(42)\n",
        "students_affiliations = np.random.choice([\"CS\", \"Engineering\", \"Math\", \"Physics\"], size=1000)\n",
        "\n",
        "fig = plt.figure()\n",
        "ax = fig.add_axes([0,0,1,1])\n",
        "students = [np.count_nonzero(students_affiliations == \"Physics\"), \n",
        "           np.count_nonzero(students_affiliations == \"CS\"),\n",
        "           np.count_nonzero(students_affiliations == \"Math\"), \n",
        "           np.count_nonzero(students_affiliations == \"Engineering\")]\n",
        "print(students)\n",
        "ax.bar([\"Physics\", \"CS\", \"Math\", \"Engineering\"], students, color = \"#FF5733\", alpha=0.55)\n",
        "ax.set_ylabel(\"Counts\")\n",
        "ax.set_xlabel(\"Disciplines\")  \n",
        "ax.set_title(\"Distribution of Students in the Program\", color= 'g')\n",
        "plt.show()\n"
      ]
    }
  ],
  "metadata": {
    "kernelspec": {
      "display_name": "Python 3 (ipykernel)",
      "language": "python",
      "name": "python3"
    },
    "language_info": {
      "codemirror_mode": {
        "name": "ipython",
        "version": 3
      },
      "file_extension": ".py",
      "mimetype": "text/x-python",
      "name": "python",
      "nbconvert_exporter": "python",
      "pygments_lexer": "ipython3",
      "version": "3.9.9"
    },
    "colab": {
      "name": "data_vis_experience.ipynb",
      "provenance": [],
      "collapsed_sections": []
    }
  },
  "nbformat": 4,
  "nbformat_minor": 5
}
